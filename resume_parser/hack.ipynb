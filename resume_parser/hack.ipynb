{
 "cells": [
  {
   "cell_type": "code",
   "execution_count": 1,
   "metadata": {},
   "outputs": [
    {
     "name": "stderr",
     "output_type": "stream",
     "text": [
      "/home/sfleur/Downloads/hackathon/.venv/lib/python3.10/site-packages/tqdm/auto.py:21: TqdmWarning: IProgress not found. Please update jupyter and ipywidgets. See https://ipywidgets.readthedocs.io/en/stable/user_install.html\n",
      "  from .autonotebook import tqdm as notebook_tqdm\n",
      "100%|██████████| 7/7 [00:01<00:00,  6.09it/s]\n"
     ]
    }
   ],
   "source": [
    "from utils import read_docx, read_pdf, get_raw_texts, get_resume_blocks, extract_name, extract_email, extract_education, find_contacts, JSON_FORMAT\n",
    "from sentence_transformers import SentenceTransformer, util\n",
    "from transformers import AutoTokenizer, AutoModelForTokenClassification, pipeline\n",
    "import json\n",
    "\n",
    "DIRECTORY = \"/home/sfleur/Downloads/hackathon/resume_parser/resumes\"\n",
    "model = SentenceTransformer('sentence-transformers/all-MiniLM-L6-v2')\n",
    "ner_model = AutoModelForTokenClassification.from_pretrained(\"Jean-Baptiste/roberta-large-ner-english\")\n",
    "tokenizer = AutoTokenizer.from_pretrained(\"Jean-Baptiste/roberta-large-ner-english\")\n",
    "pipeline = pipeline('ner', model=ner_model, tokenizer=tokenizer, aggregation_strategy=\"simple\")\n",
    "\n",
    "resumes = get_raw_texts(DIRECTORY)\n"
   ]
  },
  {
   "cell_type": "code",
   "execution_count": 2,
   "metadata": {},
   "outputs": [],
   "source": [
    "from utils import extract_experience"
   ]
  },
  {
   "cell_type": "code",
   "execution_count": 8,
   "metadata": {},
   "outputs": [
    {
     "name": "stdout",
     "output_type": "stream",
     "text": [
      "[]\n",
      "[['Zero To One Labs', ' KZ', ['Sep 2020']], ['Club Dobryakov', ' Almaty', ['Jul 2019', 'Aug 2020'], ['Jun 2018', 'Aug 2018'], ['2020 2nd'], ['2018'], ['2016', '2020'], ['2016 Sep'], ['2017 Feb'], ['2017']]]\n",
      "[]\n",
      "[]\n",
      "[]\n",
      "[['File Exchange', ['Oct 2021']]]\n",
      "[['File Exchange', ['Oct 2021']]]\n"
     ]
    }
   ],
   "source": [
    "experience_array = []\n",
    "for resume in resumes2:\n",
    "    if 'Experience' in resume:\n",
    "        experience_array = extract_experience(pipeline, resume['Experience'])\n",
    "    elif 'Employment' in resume:\n",
    "        experience_array = extract_experience(pipeline, resume['Experience'])\n",
    "\n",
    "    print(experience_array)"
   ]
  },
  {
   "cell_type": "code",
   "execution_count": 7,
   "metadata": {},
   "outputs": [
    {
     "data": {
      "text/plain": [
       "[['File Exchange', ['Oct 2021']]]"
      ]
     },
     "execution_count": 7,
     "metadata": {},
     "output_type": "execute_result"
    }
   ],
   "source": [
    "experience_array"
   ]
  },
  {
   "cell_type": "code",
   "execution_count": 5,
   "metadata": {},
   "outputs": [
    {
     "name": "stderr",
     "output_type": "stream",
     "text": [
      "100%|██████████| 7/7 [00:04<00:00,  1.60it/s]\n"
     ]
    }
   ],
   "source": [
    "resumes2 = get_resume_blocks(resumes, model)"
   ]
  },
  {
   "cell_type": "code",
   "execution_count": 9,
   "metadata": {},
   "outputs": [
    {
     "data": {
      "text/plain": [
       "{'About me': 'Elena\\t\\nGale\\t\\n\\nUI/UXDESIGNER\\n\\nPROFILE\\n\\nPaphos, Cyprus \\n\\n+357 97 788000 \\n\\nhi@juliaggggcom \\n\\njourney, and prepared presentations \\n\\nfor social media reporting and \\n\\nfundraising programs. \\n\\nI pursue design because of its vast potential to help people in day-to-day life, and for its \\n\\nintegration of beauty and utility. I’m keen on exploring human-centred, interactive, engaging \\n\\ndesign, also, prototyping which helps think through interaction models and new possibilities. \\n\\nAfter all, I want to apply my skills to create a positive impact. \\n\\n',\n",
       " 'Experience': \"Simila Cyprus Ltd, Paphos, Cyprus \\n\\nUI/UX Designer & Advertising Manager \\n\\nJul 2017 – Present \\n\\nCollaborated closely with stakeholders to design a responsive, intuitive and engaging website \\n\\nacross the property and car rental products on multiple devices. \\n\\nAccomplishments: Revised and improved the information architecture to make users easy to \\n\\nnavigation on the website which leads to an increase of the conversion rate by 30% over an \\nolder design. Updated brand logo and assets, created and implemented streamlined templates, \\n\\ncreated more reliable and cohesive brand perception which is confirmed by Traveler's Choice \\n\\n2020 from TripAdvisor. \\n\\nProduct Marketing: managing an organisation's online presence including public relations, \\n\\ncommunications and social media management and created and optimise content for the Web \\n\\nsite using a variety of graphics and information from different courses. \\n\\nUX / UI Design: conducted user research, user journey maps, identifying problems and user \\n\\nneeds, prototyping, competitive analysis, and visual design. \\n\\nFreelancer (contracts) \\n\\nUI/UX Designer \\n\\nJan 2015 – Present \\n\\nAs a freelance designer, have worked on wide variety of clients from Canada, the UK, the USA, \\n\\nUkraine and more to deliver multiple design projects, including UI design, UX flows, storyboards, \\n\\nlayout design, landing pages, illustration, typography, and motion graphics. Built UI mockups \\n\\nand prototypes. Collaborated with engineers ensure high- quality implementation. \\n\\nKharkov For Rent, Kharkiv, Ukraine \\n\\nWeb Designer & Marketing Manager  May 2010 – Dec 2014 \\n\\nWorked closely with the owner to develop a corporate design system, including logo, \\n\\ntypography, image style, colours and design principle defining visual parameters for the local \\n\\nproperty rental service. Created user experience and user interface across mobile and web \\n\\nplatforms. Worked with the marketing team and engineers to conduct user research, create \\n\\npersonas, UX flows, wireframes, and low to high fidelity prototype. \\n\\nDream Way, Kharkiv, Ukraine \\n\\nPhotographer & Social Media Coordinator  Mar 2011 – May 2013 \\n\\nVOLUNTEERING\\n\\nInternational Children’s Heart Foundation, Memphis, TN, USA \\n\\nPhotographer  Sep 2011 – Feb 2013 \\n\\nWorked with an international team of doctors and nurses visiting the Kharkiv Children’s Hospital. \\n\\nPrepared photo-based visual storylines of the children through their treatment and recovery \\n\\n \\n \\n  \\n \\n  \\n \\n \\n \\n \\n \\n \\n \\n \\n\",\n",
       " 'Skills': 'UI/UX Design Interaction Design Branding + Identity Wireframing Prototyping \\nInformation Architecture \\n\\nT O O L S   \\n\\nFigma App Sketch App \\n\\nAdobe Creative Suite Principle \\n\\nWebflow Invision \\nPen & Paper \\n\\nBasic HTML/CSS Basic After Effects \\n\\n',\n",
       " 'Education': 'Sochnik Design School \\n\\nWeb & UI Design \\n\\nJan 2017 – May 2017 \\n\\nSTEP Academy \\n\\nComputer Graphics & Design Sep 2008 – May 2009 \\n\\nKharkiv National University of Economics \\n\\nMaster’s in Business Economics Sep 2005 - May 2010 \\n\\n',\n",
       " 'Languages': 'IELTS - Overall 7,5 Fluent \\n\\nUkrainian \\n\\nNative \\n\\nRussian \\n\\nFluent \\n\\n \\n \\n \\n \\n \\n \\n \\n\\n'}"
      ]
     },
     "execution_count": 9,
     "metadata": {},
     "output_type": "execute_result"
    }
   ],
   "source": [
    "resumes2[3]"
   ]
  },
  {
   "cell_type": "code",
   "execution_count": 21,
   "metadata": {},
   "outputs": [
    {
     "data": {
      "text/plain": [
       "'A'"
      ]
     },
     "execution_count": 21,
     "metadata": {},
     "output_type": "execute_result"
    }
   ],
   "source": [
    "'agdafaas'[0].upper()"
   ]
  },
  {
   "cell_type": "code",
   "execution_count": 2,
   "metadata": {},
   "outputs": [
    {
     "name": "stdout",
     "output_type": "stream",
     "text": [
      "Defaulting to user installation because normal site-packages is not writeable\n",
      "Collecting python-docx\n",
      "  Downloading python_docx-1.1.0-py3-none-any.whl.metadata (2.0 kB)\n",
      "Collecting lxml>=3.1.0 (from python-docx)\n",
      "  Downloading lxml-5.1.0-cp310-cp310-manylinux_2_17_x86_64.manylinux2014_x86_64.whl.metadata (3.5 kB)\n",
      "Requirement already satisfied: typing-extensions in /home/sfleur/.local/lib/python3.10/site-packages (from python-docx) (4.8.0)\n",
      "Downloading python_docx-1.1.0-py3-none-any.whl (239 kB)\n",
      "\u001b[2K   \u001b[90m━━━━━━━━━━━━━━━━━━━━━━━━━━━━━━━━━━━━━━━\u001b[0m \u001b[32m239.6/239.6 kB\u001b[0m \u001b[31m513.3 kB/s\u001b[0m eta \u001b[36m0:00:00\u001b[0m00:01\u001b[0m00:01\u001b[0m\n",
      "\u001b[?25hDownloading lxml-5.1.0-cp310-cp310-manylinux_2_17_x86_64.manylinux2014_x86_64.whl (8.0 MB)\n",
      "\u001b[2K   \u001b[90m━━━━━━━━━━━━━━━━━━━━━━━━━━━━━━━━━━━━━━━━\u001b[0m \u001b[32m8.0/8.0 MB\u001b[0m \u001b[31m249.1 kB/s\u001b[0m eta \u001b[36m0:00:00\u001b[0m00:01\u001b[0m00:01\u001b[0m\n",
      "\u001b[?25hInstalling collected packages: lxml, python-docx\n",
      "Successfully installed lxml-5.1.0 python-docx-1.1.0\n",
      "Note: you may need to restart the kernel to use updated packages.\n"
     ]
    }
   ],
   "source": [
    "pip install python-docx"
   ]
  },
  {
   "cell_type": "code",
   "execution_count": 3,
   "metadata": {},
   "outputs": [
    {
     "name": "stdout",
     "output_type": "stream",
     "text": [
      " hack.ipynb  'Резюме для 1 кейса Хакатона'\n"
     ]
    }
   ],
   "source": [
    "!ls"
   ]
  },
  {
   "cell_type": "code",
   "execution_count": 60,
   "metadata": {},
   "outputs": [
    {
     "name": "stdout",
     "output_type": "stream",
     "text": [
      "Defaulting to user installation because normal site-packages is not writeable\n",
      "Collecting PyPDF2\n",
      "  Downloading pypdf2-3.0.1-py3-none-any.whl.metadata (6.8 kB)\n",
      "Downloading pypdf2-3.0.1-py3-none-any.whl (232 kB)\n",
      "\u001b[2K   \u001b[90m━━━━━━━━━━━━━━━━━━━━━━━━━━━━━━━━━━━━━━━━\u001b[0m \u001b[32m232.6/232.6 kB\u001b[0m \u001b[31m1.2 MB/s\u001b[0m eta \u001b[36m0:00:00\u001b[0ma \u001b[36m0:00:01\u001b[0mm\n",
      "\u001b[?25hInstalling collected packages: PyPDF2\n",
      "Successfully installed PyPDF2-3.0.1\n",
      "Note: you may need to restart the kernel to use updated packages.\n"
     ]
    }
   ],
   "source": [
    "pip install PyPDF2"
   ]
  },
  {
   "cell_type": "code",
   "execution_count": 150,
   "metadata": {},
   "outputs": [],
   "source": [
    "from docx import Document\n",
    "\n",
    "def read_docx(file_path):\n",
    "    doc = Document(file_path)\n",
    "    text = []\n",
    "    for para in doc.paragraphs:\n",
    "        text.append(para.text)\n",
    "    return '\\n'.join(text)\n",
    "\n",
    "# file_path = 'resume.docx'\n",
    "# resume_text = read_docx(file_path)"
   ]
  },
  {
   "cell_type": "code",
   "execution_count": 151,
   "metadata": {},
   "outputs": [],
   "source": [
    "import os\n",
    "from docx import Document\n",
    "from PyPDF2 import PdfReader\n",
    "\n",
    "columns = ['education', 'experience', 'skills', 'achievments', 'projects', 'highlighted projects', 'skills and certifications', 'technical skills', 'professional experience']\n",
    "directory = 'Резюме для 1 кейса Хакатона'\n",
    "resumes = {'pdf': [], 'word': []}\n",
    "for filename in os.listdir(directory):\n",
    "    f = os.path.join(directory, filename)\n",
    "    if f[-4:] == 'docx':\n",
    "        # doc = Document(f)\n",
    "        # resume = ''\n",
    "        # resume = {}\n",
    "        # column = 'About me'\n",
    "        # for i in range(len(doc.paragraphs)):\n",
    "        #     resume += doc.paragraphs[i].text + '\\n'\n",
    "            # text = doc.paragraphs[i].text\n",
    "            # if any(word in ''.join([t.lower() for t in text]) for word in columns):\n",
    "            #         column = text\n",
    "            # else:\n",
    "            #     if column in resume:\n",
    "            #         resume[column] += '\\n' + text\n",
    "            #     else:\n",
    "            #         resume[column] = text\n",
    "            # if ''.join([i.lower() for i in text.strip()]) in columns:\n",
    "            #     column = text\n",
    "            # else:\n",
    "            #     if column in resume:\n",
    "            #         resume[column] += '\\n' + text\n",
    "            #     else:\n",
    "            #         resume[column] = text\n",
    "\n",
    "        resumes['word'].append(read_docx(f))\n",
    "    else:\n",
    "        # reader = PdfReader(f)\n",
    "        # text = reader.pages[0].extract_text()\n",
    "        pass\n",
    "    "
   ]
  },
  {
   "cell_type": "code",
   "execution_count": 158,
   "metadata": {},
   "outputs": [
    {
     "name": "stdout",
     "output_type": "stream",
     "text": [
      "Defaulting to user installation because normal site-packages is not writeable\n",
      "Requirement already satisfied: sentence-transformers in /home/sfleur/.local/lib/python3.10/site-packages (2.3.1)\n",
      "Collecting sentence-transformers\n",
      "  Using cached sentence_transformers-2.4.0-py3-none-any.whl.metadata (11 kB)\n",
      "Requirement already satisfied: transformers<5.0.0,>=4.32.0 in /home/sfleur/.local/lib/python3.10/site-packages (from sentence-transformers) (4.37.2)\n",
      "Requirement already satisfied: tqdm in /home/sfleur/.local/lib/python3.10/site-packages (from sentence-transformers) (4.64.1)\n",
      "Requirement already satisfied: torch>=1.11.0 in /home/sfleur/.local/lib/python3.10/site-packages (from sentence-transformers) (2.0.1)\n",
      "Requirement already satisfied: numpy in /home/sfleur/.local/lib/python3.10/site-packages (from sentence-transformers) (1.23.5)\n",
      "Requirement already satisfied: scikit-learn in /home/sfleur/.local/lib/python3.10/site-packages (from sentence-transformers) (1.2.2)\n",
      "Requirement already satisfied: scipy in /home/sfleur/.local/lib/python3.10/site-packages (from sentence-transformers) (1.9.3)\n",
      "Requirement already satisfied: huggingface-hub>=0.15.1 in /home/sfleur/.local/lib/python3.10/site-packages (from sentence-transformers) (0.20.3)\n",
      "Requirement already satisfied: Pillow in /usr/lib/python3/dist-packages (from sentence-transformers) (9.0.1)\n",
      "Requirement already satisfied: filelock in /home/sfleur/.local/lib/python3.10/site-packages (from huggingface-hub>=0.15.1->sentence-transformers) (3.12.4)\n",
      "Requirement already satisfied: fsspec>=2023.5.0 in /home/sfleur/.local/lib/python3.10/site-packages (from huggingface-hub>=0.15.1->sentence-transformers) (2023.6.0)\n",
      "Requirement already satisfied: requests in /home/sfleur/.local/lib/python3.10/site-packages (from huggingface-hub>=0.15.1->sentence-transformers) (2.28.2)\n",
      "Requirement already satisfied: pyyaml>=5.1 in /usr/lib/python3/dist-packages (from huggingface-hub>=0.15.1->sentence-transformers) (5.4.1)\n",
      "Requirement already satisfied: typing-extensions>=3.7.4.3 in /home/sfleur/.local/lib/python3.10/site-packages (from huggingface-hub>=0.15.1->sentence-transformers) (4.8.0)\n",
      "Requirement already satisfied: packaging>=20.9 in /home/sfleur/.local/lib/python3.10/site-packages (from huggingface-hub>=0.15.1->sentence-transformers) (21.3)\n",
      "Requirement already satisfied: sympy in /home/sfleur/.local/lib/python3.10/site-packages (from torch>=1.11.0->sentence-transformers) (1.11.1)\n",
      "Requirement already satisfied: networkx in /home/sfleur/.local/lib/python3.10/site-packages (from torch>=1.11.0->sentence-transformers) (3.0)\n",
      "Requirement already satisfied: jinja2 in /home/sfleur/.local/lib/python3.10/site-packages (from torch>=1.11.0->sentence-transformers) (3.1.2)\n",
      "Requirement already satisfied: nvidia-cuda-nvrtc-cu11==11.7.99 in /home/sfleur/.local/lib/python3.10/site-packages (from torch>=1.11.0->sentence-transformers) (11.7.99)\n",
      "Requirement already satisfied: nvidia-cuda-runtime-cu11==11.7.99 in /home/sfleur/.local/lib/python3.10/site-packages (from torch>=1.11.0->sentence-transformers) (11.7.99)\n",
      "Requirement already satisfied: nvidia-cuda-cupti-cu11==11.7.101 in /home/sfleur/.local/lib/python3.10/site-packages (from torch>=1.11.0->sentence-transformers) (11.7.101)\n",
      "Requirement already satisfied: nvidia-cudnn-cu11==8.5.0.96 in /home/sfleur/.local/lib/python3.10/site-packages (from torch>=1.11.0->sentence-transformers) (8.5.0.96)\n",
      "Requirement already satisfied: nvidia-cublas-cu11==11.10.3.66 in /home/sfleur/.local/lib/python3.10/site-packages (from torch>=1.11.0->sentence-transformers) (11.10.3.66)\n",
      "Requirement already satisfied: nvidia-cufft-cu11==10.9.0.58 in /home/sfleur/.local/lib/python3.10/site-packages (from torch>=1.11.0->sentence-transformers) (10.9.0.58)\n",
      "Requirement already satisfied: nvidia-curand-cu11==10.2.10.91 in /home/sfleur/.local/lib/python3.10/site-packages (from torch>=1.11.0->sentence-transformers) (10.2.10.91)\n",
      "Requirement already satisfied: nvidia-cusolver-cu11==11.4.0.1 in /home/sfleur/.local/lib/python3.10/site-packages (from torch>=1.11.0->sentence-transformers) (11.4.0.1)\n",
      "Requirement already satisfied: nvidia-cusparse-cu11==11.7.4.91 in /home/sfleur/.local/lib/python3.10/site-packages (from torch>=1.11.0->sentence-transformers) (11.7.4.91)\n",
      "Requirement already satisfied: nvidia-nccl-cu11==2.14.3 in /home/sfleur/.local/lib/python3.10/site-packages (from torch>=1.11.0->sentence-transformers) (2.14.3)\n",
      "Requirement already satisfied: nvidia-nvtx-cu11==11.7.91 in /home/sfleur/.local/lib/python3.10/site-packages (from torch>=1.11.0->sentence-transformers) (11.7.91)\n",
      "Requirement already satisfied: triton==2.0.0 in /home/sfleur/.local/lib/python3.10/site-packages (from torch>=1.11.0->sentence-transformers) (2.0.0)\n",
      "Requirement already satisfied: setuptools in /home/sfleur/.local/lib/python3.10/site-packages (from nvidia-cublas-cu11==11.10.3.66->torch>=1.11.0->sentence-transformers) (68.2.2)\n",
      "Requirement already satisfied: wheel in /home/sfleur/.local/lib/python3.10/site-packages (from nvidia-cublas-cu11==11.10.3.66->torch>=1.11.0->sentence-transformers) (0.41.2)\n",
      "Requirement already satisfied: cmake in /home/sfleur/.local/lib/python3.10/site-packages (from triton==2.0.0->torch>=1.11.0->sentence-transformers) (3.26.0)\n",
      "Requirement already satisfied: lit in /home/sfleur/.local/lib/python3.10/site-packages (from triton==2.0.0->torch>=1.11.0->sentence-transformers) (15.0.7)\n",
      "Requirement already satisfied: regex!=2019.12.17 in /home/sfleur/.local/lib/python3.10/site-packages (from transformers<5.0.0,>=4.32.0->sentence-transformers) (2023.8.8)\n",
      "Requirement already satisfied: tokenizers<0.19,>=0.14 in /home/sfleur/.local/lib/python3.10/site-packages (from transformers<5.0.0,>=4.32.0->sentence-transformers) (0.15.2)\n",
      "Requirement already satisfied: safetensors>=0.4.1 in /home/sfleur/.local/lib/python3.10/site-packages (from transformers<5.0.0,>=4.32.0->sentence-transformers) (0.4.2)\n",
      "Requirement already satisfied: joblib>=1.1.1 in /home/sfleur/.local/lib/python3.10/site-packages (from scikit-learn->sentence-transformers) (1.2.0)\n",
      "Requirement already satisfied: threadpoolctl>=2.0.0 in /home/sfleur/.local/lib/python3.10/site-packages (from scikit-learn->sentence-transformers) (3.1.0)\n",
      "Requirement already satisfied: pyparsing!=3.0.5,>=2.0.2 in /usr/lib/python3/dist-packages (from packaging>=20.9->huggingface-hub>=0.15.1->sentence-transformers) (2.4.7)\n",
      "Requirement already satisfied: MarkupSafe>=2.0 in /home/sfleur/.local/lib/python3.10/site-packages (from jinja2->torch>=1.11.0->sentence-transformers) (2.1.3)\n",
      "Requirement already satisfied: charset-normalizer<4,>=2 in /home/sfleur/.local/lib/python3.10/site-packages (from requests->huggingface-hub>=0.15.1->sentence-transformers) (3.3.0)\n",
      "Requirement already satisfied: idna<4,>=2.5 in /home/sfleur/.local/lib/python3.10/site-packages (from requests->huggingface-hub>=0.15.1->sentence-transformers) (3.4)\n",
      "Requirement already satisfied: urllib3<1.27,>=1.21.1 in /usr/lib/python3/dist-packages (from requests->huggingface-hub>=0.15.1->sentence-transformers) (1.26.5)\n",
      "Requirement already satisfied: certifi>=2017.4.17 in /home/sfleur/.local/lib/python3.10/site-packages (from requests->huggingface-hub>=0.15.1->sentence-transformers) (2023.7.22)\n",
      "Requirement already satisfied: mpmath>=0.19 in /home/sfleur/.local/lib/python3.10/site-packages (from sympy->torch>=1.11.0->sentence-transformers) (1.3.0)\n",
      "Using cached sentence_transformers-2.4.0-py3-none-any.whl (149 kB)\n",
      "Installing collected packages: sentence-transformers\n",
      "  Attempting uninstall: sentence-transformers\n",
      "    Found existing installation: sentence-transformers 2.3.1\n",
      "    Uninstalling sentence-transformers-2.3.1:\n",
      "      Successfully uninstalled sentence-transformers-2.3.1\n",
      "Successfully installed sentence-transformers-2.4.0\n",
      "Note: you may need to restart the kernel to use updated packages.\n"
     ]
    }
   ],
   "source": [
    "pip install -U sentence-transformers"
   ]
  },
  {
   "cell_type": "code",
   "execution_count": 167,
   "metadata": {},
   "outputs": [
    {
     "ename": "ModuleNotFoundError",
     "evalue": "No module named 'torch'",
     "output_type": "error",
     "traceback": [
      "\u001b[0;31m---------------------------------------------------------------------------\u001b[0m",
      "\u001b[0;31mModuleNotFoundError\u001b[0m                       Traceback (most recent call last)",
      "Cell \u001b[0;32mIn[167], line 1\u001b[0m\n\u001b[0;32m----> 1\u001b[0m \u001b[38;5;28;01mimport\u001b[39;00m \u001b[38;5;21;01mtorch\u001b[39;00m\n",
      "\u001b[0;31mModuleNotFoundError\u001b[0m: No module named 'torch'"
     ]
    }
   ],
   "source": [
    "import torch"
   ]
  },
  {
   "cell_type": "code",
   "execution_count": 166,
   "metadata": {},
   "outputs": [
    {
     "ename": "ModuleNotFoundError",
     "evalue": "No module named 'torch'",
     "output_type": "error",
     "traceback": [
      "\u001b[0;31m---------------------------------------------------------------------------\u001b[0m",
      "\u001b[0;31mModuleNotFoundError\u001b[0m                       Traceback (most recent call last)",
      "Cell \u001b[0;32mIn[166], line 1\u001b[0m\n\u001b[0;32m----> 1\u001b[0m \u001b[38;5;28;01mimport\u001b[39;00m \u001b[38;5;21;01mtorch\u001b[39;00m\n\u001b[1;32m      2\u001b[0m \u001b[38;5;28;01mfrom\u001b[39;00m \u001b[38;5;21;01msentence_transformers\u001b[39;00m \u001b[38;5;28;01mimport\u001b[39;00m SentenceTransformer\n\u001b[1;32m      4\u001b[0m embedder \u001b[38;5;241m=\u001b[39m SentenceTransformer(\u001b[38;5;124m'\u001b[39m\u001b[38;5;124mparaphrase-MiniLM-L6-v2\u001b[39m\u001b[38;5;124m'\u001b[39m)\n",
      "\u001b[0;31mModuleNotFoundError\u001b[0m: No module named 'torch'"
     ]
    }
   ],
   "source": [
    "import torch\n",
    "from sentence_transformers import SentenceTransformer\n",
    "\n",
    "embedder = SentenceTransformer('paraphrase-MiniLM-L6-v2')"
   ]
  },
  {
   "cell_type": "code",
   "execution_count": 153,
   "metadata": {},
   "outputs": [
    {
     "data": {
      "text/plain": [
       "\"Konstantin Alex\\nBack End Developer\\n\\n\\n\\n\\n\\n10+ years of extensive experience as a back end web developer with a focus on creating websites and different customer services. During this time I've been creating more than 200 websites. I've been working with PHP since 2008. Also have experience with Python, Java, and Android mobile development. Absolutely comfortable working remotely and know how to stay organized and how to work in a remote team. I love to learn new things, and I pick up on new concepts fast, especially in a hands-on environment. My goal is to find a full-time remote position in an international company and to grow up as a professional.\\n\\n\\nTechnical Skills\\nPHP (OOP, SOLID, Patterns) | Symfony | WordPress | Python | Django | Flask | Java | VueJS | Slim | WebPack | Git | HTML | CSS | jQuery | PHPUnit | MySQL | PostgreSQL | MongoDB | Redis | AWS | Rest API | SOAP | Composer | Docker | Scrum | Linux | RabbitMQ | Sphinx | JavaScript\\n\\n\\nWork Experience\\n\\nSenior Back End Developer\\nRT Labs\\tAug 2020 - Present\\nParticipated in development of SAAS platform for creating ~200-250k government websites. Developed a REST API module for communication between the base platform and websites. Developed service for creating patches and central updating websites.\\nworking in a team with remote coworkers: developers, analytics, and designers\\nelements and pages of base websites\\nlogging system\\n\\n\\n\\nSenior Back End Developer\\nWebWay\\tMay 2017 - Aug 2020\\nCreated a website for one of the biggest insurance companies.\\n25+ calculators and forms to buy a new policy, to send a report, or to ask some questions\\nanalytical system with reports, graphics, and filters\\nconnections with different services (SOAP and REST)\\nconnection with payment systems and receipt printing system\\nautomatic testing of all forms\\nWebsite for one of the famous business coaches in Russia.\\nwebsite with a possibility to choose and order physical or digital content (books, CD, DVD, MP3, etc)\\na personal cabinet for the customers\\na ticket system for the event when you can choose the cost of your ticket, buy this ticket, and print it\\n\\nBack End Developer\\nIndivid\\tAug 2016 - May 2017\\nMy main focus was on the Bitrix framework. I was responsible for development of new projects and technical support of current projects.\\ncreated a website for a chain of federal medicine clinics\\ne-store for a big tech company with many pages, services, and connections\\ntechnical support of current projects\\n\\n\\n\\nBack End Developer\\nNetCat\\tMar 2013 - Aug 2016\\nFor this company I worked as a tech writer and as a developer. For this company I:\\nrewrote all official documentation for developers and users\\ncreated module «Bills» for the main product of company\\ntested components of the system\\ncommunicated with other remote developers\\nperformed technical support of other developers\\n\\n\\n\\n\\nFull Stack Developer\\nThe South Urals Chamber Of Commerce And Industry\\tFeb 2010 - Mar 2013\\nMy main role is the development and support of the company's main website and support services. Communicated with the company's customers and created websites for them.\\nfinished courses as a specialist with creating security tokens.\\nworked as a coach and taught people how to work in a auction platforms\\n\\n\\n\\nFull Stack Developer\\nWeb Group «W»\\tNov 2008 - Feb 2010\\nCreated a social-network for the builder's community, a portal for a regional city with different services. At this company I was responsible for:\\ndevelopment of new projects\\ntechnical support of current projects\\nreview code to increase the code quality and working with other developers\\n\\nEducation\\nMaster in Computer Science (2002 — 2006)\""
      ]
     },
     "execution_count": 153,
     "metadata": {},
     "output_type": "execute_result"
    }
   ],
   "source": [
    "resumes['word'][0]"
   ]
  },
  {
   "cell_type": "code",
   "execution_count": 107,
   "metadata": {},
   "outputs": [
    {
     "name": "stdout",
     "output_type": "stream",
     "text": [
      "Elena\tGale\tU I / U X D E S I G N E R    Paphos, Cyprus +357 97 788000 hi@juliaggggcom         PROFILE  I pursue design because of its vast potential to help people in day-to-day life, and for its integration of beauty and utility. I’m keen on exploring human-centred, interactive, engaging design, also, prototyping which helps think through interaction models and new possibilities. After all, I want to apply my skills to create a positive impact.  EXPERIENCE  Simila Cyprus Ltd, Paphos, Cyprus UI/UX Designer & Advertising Manager Jul 2017 – Present Collaborated closely with stakeholders to design a responsive, intuitive and engaging website across the property and car rental products on multiple devices. Accomplishments: Revised and improved the information architecture to make users easy to navigation on the website which leads to an increase of the conversion rate by 30% over an older design. Updated brand logo and assets, created and implemented streamlined templates, created more reliable and cohesive brand perception which is confirmed by Traveler's Choice 2020 from TripAdvisor. Product Marketing: managing an organisation's online presence including public relations, communications and social media management and created and optimise content for the Web site using a variety of graphics and information from different courses. UX / UI Design: conducted user research, user journey maps, identifying problems and user needs, prototyping, competitive analysis, and visual design.  Freelancer (contracts) UI/UX Designer Jan 2015 – Present As a freelance designer, have worked on wide variety of clients from Canada, the UK, the USA, Ukraine and more to deliver multiple design projects, including UI design, UX flows, storyboards, layout design, landing pages, illustration, typography, and motion graphics. Built UI mockups and prototypes. Collaborated with engineers ensure high- quality implementation.  Kharkov For Rent, Kharkiv, Ukraine Web Designer & Marketing Manager May 2010 – Dec 2014 Worked closely with the owner to develop a corporate design system, including logo, typography, image style, colours and design principle defining visual parameters for the local property rental service. Created user experience and user interface across mobile and web platforms. Worked with the marketing team and engineers to conduct user research, create personas, UX flows, wireframes, and low to high fidelity prototype.  Dream Way, Kharkiv, Ukraine Photographer & Social Media Coordinator Mar 2011 – May 2013  VOLUNTEERING  International Children’s Heart Foundation, Memphis, TN, USA Photographer Sep 2011 – Feb 2013 Worked with an international team of doctors and nurses visiting the Kharkiv Children’s Hospital. Prepared photo-based visual storylines of the children through their treatment and recovery journey, and prepared presentations for social media reporting and fundraising programs.   SKILLS  UI/UX Design Interaction Design Branding + Identity Wireframing Prototyping Information Architecture   TOOLS  Figma App Sketch App Adobe Creative Suite Principle Webflow Invision Pen & Paper  Basic HTML/CSS Basic After Effects   EDUCATI ON  Sochnik Design School Web & UI Design Jan 2017 – May 2017 STEP Academy Computer Graphics & Design Sep 2008 – May 2009 Kharkiv National University of Economics Master’s in Business Economics Sep 2005 - May 2010  LANG UA G ES  English IELTS - Overall 7,5 Fluent Ukrainian Native Russian Fluent  "
     ]
    }
   ],
   "source": [
    "from PyPDF2 import PdfReader\n",
    "\n",
    "def get_pdf_content_lines(pdf_file_path):\n",
    "    with open(pdf_file_path, 'rb') as f:\n",
    "        pdf_reader = PdfReader(f)\n",
    "        for page in pdf_reader.pages: \n",
    "            for line in page.extract_text().splitlines():\n",
    "                yield line\n",
    "\n",
    "for line in get_pdf_content_lines('Резюме для 1 кейса Хакатона/Elena Gale.pdf'):\n",
    "    print(line, end=' ')"
   ]
  },
  {
   "cell_type": "code",
   "execution_count": 140,
   "metadata": {},
   "outputs": [
    {
     "name": "stdout",
     "output_type": "stream",
     "text": [
      "{'About me': 'Pavel Orlov\\tpavel.o@outlook.com\\nSenior Frontend Developer & Team Lead\\t+7 91 9000-0000\\nVisa sponsorship required\\n', 'T-shaped, responsible, and collaborative Software Engineer and Team Lead. 8+ years of experience of development in startups, consultancies, and product companies. Advanced skills in frontend development, an expert in JavaScript, various frontend frameworks, and libraries. Comprehensive knowledge of Java and backend utilities. Passionate about user experience and clear software architecture. Fond of teamwork and productive meetings.': '', 'Technical Skills \\t': 'Languages\\tTypeScript, JavaScript, Java, Golang\\nFrameworks & libs\\tReactJS, Svelte, Effector, Recoil, Redux, Apollo GraphQL, TreeJS, OSM, ExpressJS, Spring\\n', 'Professional Experience \\t': 'Remedy Inc\\nSenior Frontend Engineer & Team Lead\\tDec 2019 ‑ present\\nDeveloped a flexible platform to allow customers to choose a clinic and get or order some medical services online\\nMigrated a complex legacy project from JavaScript/AngularJS to TypeScript/React with unit and integrating testing\\nSignificantly increased accessibility for users with mobile devices\\nDeveloped and implemented UI-library with Unit tests and documentation based on Storybook\\nDesigned frontend architecture\\nLeading and influencing software engineering best practices within teams for the full software development life cycle, including documentation, design, coding standards, code reviews, building, testing, deployment, and other operations.\\nLed a team of 5 members\\n\\nVinavis\\nSenior Software Engineer\\tNov 2018 ‑ Dec 2019\\nDeveloped a high-loaded management system for unmanned vehicles\\nArchitected and developed a scalable real-time ReactJS application\\nImproved performance from 10 to 60 FPS for the most loaded parts of the app\\nImplemented CI/CD for the frontend part of the application\\nDeveloped and Implemented multi-domain OAuth-based authentication\\nDeveloped and Implemented JS library for on-map data visualization\\nCoordinated teamwork of 3 developers\\n\\nITeco\\nSoftware Engineer & Senior Software Engineer\\tApr 2016 ‑ Nov 2018\\nDeveloped and successfully delivered SPA (part of a complex enterprise solution) for letting clients book deposit boxes online for one of the biggest banks in Russia\\nDeveloped and implemented a module for remote printing\\nCreated about 20 new components for internal UI library\\nAchieved 90+% test coverage on the Backend side\\nImplemented integration with other banking modules and flows\\nMade several major CI/CD improvements which allowed to reduce deployment time from 17 to 3 minutes\\nInterviewed 30 candidates, mentored 4 junior engineers\\n\\nFreelance & Web Studios (SEMark, Consulting plus)\\nWeb developer & Lead Web Developer\\tSep 2012 ‑ Feb 2016', 'Developed various company projects as a full‑stack JavaScript/PHP & Python developer': 'Led development of Web and Mobile application\\nDeveloped and delivered a solution for municipalities to allow local governments to handle incoming citizen’s application\\nProcessed incoming business requirement\\nDelivering innovative technical solutions to improve business outcomes\\nImplemented integration with third-party APIs\\n', 'Education \\t': 'Master of Computer Science\\tState Technical University, 2016'}\n"
     ]
    }
   ],
   "source": [
    "print(resumes['word'][14])"
   ]
  },
  {
   "cell_type": "code",
   "execution_count": 87,
   "metadata": {},
   "outputs": [
    {
     "name": "stderr",
     "output_type": "stream",
     "text": [
      "PdfReader stream/file object is not in binary mode. It may not be read correctly.\n"
     ]
    },
    {
     "ename": "UnsupportedOperation",
     "evalue": "can't do nonzero cur-relative seeks",
     "output_type": "error",
     "traceback": [
      "\u001b[0;31m---------------------------------------------------------------------------\u001b[0m",
      "\u001b[0;31mUnsupportedOperation\u001b[0m                      Traceback (most recent call last)",
      "Cell \u001b[0;32mIn[87], line 1\u001b[0m\n\u001b[0;32m----> 1\u001b[0m x \u001b[38;5;241m=\u001b[39m \u001b[43mget_pdf_content\u001b[49m\u001b[43m(\u001b[49m\u001b[38;5;124;43m'\u001b[39;49m\u001b[38;5;124;43mРезюме для 1 кейса Хакатона/Elena Gale.pdf\u001b[39;49m\u001b[38;5;124;43m'\u001b[39;49m\u001b[43m)\u001b[49m\n",
      "Cell \u001b[0;32mIn[86], line 5\u001b[0m, in \u001b[0;36mget_pdf_content\u001b[0;34m(pdf_file_path)\u001b[0m\n\u001b[1;32m      3\u001b[0m \u001b[38;5;28;01mdef\u001b[39;00m \u001b[38;5;21mget_pdf_content\u001b[39m(pdf_file_path):\n\u001b[1;32m      4\u001b[0m     \u001b[38;5;28;01mwith\u001b[39;00m \u001b[38;5;28mopen\u001b[39m(pdf_file_path) \u001b[38;5;28;01mas\u001b[39;00m f:\n\u001b[0;32m----> 5\u001b[0m         pdf_reader \u001b[38;5;241m=\u001b[39m \u001b[43mPdfReader\u001b[49m\u001b[43m(\u001b[49m\u001b[43mf\u001b[49m\u001b[43m)\u001b[49m\n\u001b[1;32m      6\u001b[0m         content \u001b[38;5;241m=\u001b[39m \u001b[38;5;124m\"\u001b[39m\u001b[38;5;130;01m\\n\u001b[39;00m\u001b[38;5;124m\"\u001b[39m\u001b[38;5;241m.\u001b[39mjoin(page\u001b[38;5;241m.\u001b[39mextractText()\u001b[38;5;241m.\u001b[39mstrip() \u001b[38;5;28;01mfor\u001b[39;00m page \u001b[38;5;129;01min\u001b[39;00m pdf_reader\u001b[38;5;241m.\u001b[39mpages)\n\u001b[1;32m      7\u001b[0m         content \u001b[38;5;241m=\u001b[39m \u001b[38;5;124m'\u001b[39m\u001b[38;5;124m \u001b[39m\u001b[38;5;124m'\u001b[39m\u001b[38;5;241m.\u001b[39mjoin(content\u001b[38;5;241m.\u001b[39msplit())\n",
      "File \u001b[0;32m~/.local/lib/python3.10/site-packages/PyPDF2/_reader.py:319\u001b[0m, in \u001b[0;36mPdfReader.__init__\u001b[0;34m(self, stream, strict, password)\u001b[0m\n\u001b[1;32m    317\u001b[0m     \u001b[38;5;28;01mwith\u001b[39;00m \u001b[38;5;28mopen\u001b[39m(stream, \u001b[38;5;124m\"\u001b[39m\u001b[38;5;124mrb\u001b[39m\u001b[38;5;124m\"\u001b[39m) \u001b[38;5;28;01mas\u001b[39;00m fh:\n\u001b[1;32m    318\u001b[0m         stream \u001b[38;5;241m=\u001b[39m BytesIO(fh\u001b[38;5;241m.\u001b[39mread())\n\u001b[0;32m--> 319\u001b[0m \u001b[38;5;28;43mself\u001b[39;49m\u001b[38;5;241;43m.\u001b[39;49m\u001b[43mread\u001b[49m\u001b[43m(\u001b[49m\u001b[43mstream\u001b[49m\u001b[43m)\u001b[49m\n\u001b[1;32m    320\u001b[0m \u001b[38;5;28mself\u001b[39m\u001b[38;5;241m.\u001b[39mstream \u001b[38;5;241m=\u001b[39m stream\n\u001b[1;32m    322\u001b[0m \u001b[38;5;28mself\u001b[39m\u001b[38;5;241m.\u001b[39m_override_encryption \u001b[38;5;241m=\u001b[39m \u001b[38;5;28;01mFalse\u001b[39;00m\n",
      "File \u001b[0;32m~/.local/lib/python3.10/site-packages/PyPDF2/_reader.py:1415\u001b[0m, in \u001b[0;36mPdfReader.read\u001b[0;34m(self, stream)\u001b[0m\n\u001b[1;32m   1413\u001b[0m \u001b[38;5;28;01mdef\u001b[39;00m \u001b[38;5;21mread\u001b[39m(\u001b[38;5;28mself\u001b[39m, stream: StreamType) \u001b[38;5;241m-\u001b[39m\u001b[38;5;241m>\u001b[39m \u001b[38;5;28;01mNone\u001b[39;00m:\n\u001b[1;32m   1414\u001b[0m     \u001b[38;5;28mself\u001b[39m\u001b[38;5;241m.\u001b[39m_basic_validation(stream)\n\u001b[0;32m-> 1415\u001b[0m     \u001b[38;5;28;43mself\u001b[39;49m\u001b[38;5;241;43m.\u001b[39;49m\u001b[43m_find_eof_marker\u001b[49m\u001b[43m(\u001b[49m\u001b[43mstream\u001b[49m\u001b[43m)\u001b[49m\n\u001b[1;32m   1416\u001b[0m     startxref \u001b[38;5;241m=\u001b[39m \u001b[38;5;28mself\u001b[39m\u001b[38;5;241m.\u001b[39m_find_startxref_pos(stream)\n\u001b[1;32m   1418\u001b[0m     \u001b[38;5;66;03m# check and eventually correct the startxref only in not strict\u001b[39;00m\n",
      "File \u001b[0;32m~/.local/lib/python3.10/site-packages/PyPDF2/_reader.py:1472\u001b[0m, in \u001b[0;36mPdfReader._find_eof_marker\u001b[0;34m(self, stream)\u001b[0m\n\u001b[1;32m   1470\u001b[0m \u001b[38;5;28;01mif\u001b[39;00m stream\u001b[38;5;241m.\u001b[39mtell() \u001b[38;5;241m<\u001b[39m last_mb:\n\u001b[1;32m   1471\u001b[0m     \u001b[38;5;28;01mraise\u001b[39;00m PdfReadError(\u001b[38;5;124m\"\u001b[39m\u001b[38;5;124mEOF marker not found\u001b[39m\u001b[38;5;124m\"\u001b[39m)\n\u001b[0;32m-> 1472\u001b[0m line \u001b[38;5;241m=\u001b[39m \u001b[43mread_previous_line\u001b[49m\u001b[43m(\u001b[49m\u001b[43mstream\u001b[49m\u001b[43m)\u001b[49m\n",
      "File \u001b[0;32m~/.local/lib/python3.10/site-packages/PyPDF2/_utils.py:207\u001b[0m, in \u001b[0;36mread_previous_line\u001b[0;34m(stream)\u001b[0m\n\u001b[1;32m    204\u001b[0m     \u001b[38;5;28;01mbreak\u001b[39;00m\n\u001b[1;32m    205\u001b[0m \u001b[38;5;66;03m# Read the block. After this, our stream will be one\u001b[39;00m\n\u001b[1;32m    206\u001b[0m \u001b[38;5;66;03m# beyond the initial position.\u001b[39;00m\n\u001b[0;32m--> 207\u001b[0m block \u001b[38;5;241m=\u001b[39m \u001b[43mread_block_backwards\u001b[49m\u001b[43m(\u001b[49m\u001b[43mstream\u001b[49m\u001b[43m,\u001b[49m\u001b[43m \u001b[49m\u001b[43mto_read\u001b[49m\u001b[43m)\u001b[49m\n\u001b[1;32m    208\u001b[0m idx \u001b[38;5;241m=\u001b[39m \u001b[38;5;28mlen\u001b[39m(block) \u001b[38;5;241m-\u001b[39m \u001b[38;5;241m1\u001b[39m\n\u001b[1;32m    209\u001b[0m \u001b[38;5;28;01mif\u001b[39;00m \u001b[38;5;129;01mnot\u001b[39;00m found_crlf:\n\u001b[1;32m    210\u001b[0m     \u001b[38;5;66;03m# We haven't found our first CR/LF yet.\u001b[39;00m\n\u001b[1;32m    211\u001b[0m     \u001b[38;5;66;03m# Read off characters until we hit one.\u001b[39;00m\n",
      "File \u001b[0;32m~/.local/lib/python3.10/site-packages/PyPDF2/_utils.py:180\u001b[0m, in \u001b[0;36mread_block_backwards\u001b[0;34m(stream, to_read)\u001b[0m\n\u001b[1;32m    178\u001b[0m     \u001b[38;5;28;01mraise\u001b[39;00m PdfStreamError(\u001b[38;5;124m\"\u001b[39m\u001b[38;5;124mCould not read malformed PDF file\u001b[39m\u001b[38;5;124m\"\u001b[39m)\n\u001b[1;32m    179\u001b[0m \u001b[38;5;66;03m# Seek to the start of the block we want to read.\u001b[39;00m\n\u001b[0;32m--> 180\u001b[0m \u001b[43mstream\u001b[49m\u001b[38;5;241;43m.\u001b[39;49m\u001b[43mseek\u001b[49m\u001b[43m(\u001b[49m\u001b[38;5;241;43m-\u001b[39;49m\u001b[43mto_read\u001b[49m\u001b[43m,\u001b[49m\u001b[43m \u001b[49m\u001b[43mSEEK_CUR\u001b[49m\u001b[43m)\u001b[49m\n\u001b[1;32m    181\u001b[0m read \u001b[38;5;241m=\u001b[39m stream\u001b[38;5;241m.\u001b[39mread(to_read)\n\u001b[1;32m    182\u001b[0m \u001b[38;5;66;03m# Seek to the start of the block we read after reading it.\u001b[39;00m\n",
      "\u001b[0;31mUnsupportedOperation\u001b[0m: can't do nonzero cur-relative seeks"
     ]
    }
   ],
   "source": [
    "x = get_pdf_content('Резюме для 1 кейса Хакатона/Elena Gale.pdf')"
   ]
  },
  {
   "cell_type": "code",
   "execution_count": 79,
   "metadata": {},
   "outputs": [
    {
     "data": {
      "text/plain": [
       "\"Elena\\tGale\\tU I / U X D E S I G N E R    Paphos, Cyprus +357 97 788000 hi@juliaggggcom         PROFILE  I pursue design because of its vast potential to help people in day-to-day life, and for its integration of beauty and utility. I’m keen on exploring human-centred, interactive, engaging design, also, prototyping which helps think through interaction models and new possibilities. After all, I want to apply my skills to create a positive impact.  EXPERIENCE  Simila Cyprus Ltd, Paphos, Cyprus UI/UX Designer & Advertising Manager Jul 2017 – Present Collaborated closely with stakeholders to design a responsive, intuitive and engaging website across the property and car rental products on multiple devices. Accomplishments: Revised and improved the information architecture to make users easy to navigation on the website which leads to an increase of the conversion rate by 30% over an older design. Updated brand logo and assets, created and implemented streamlined templates, created more reliable and cohesive brand perception which is confirmed by Traveler's Choice 2020 from TripAdvisor. Product Marketing: managing an organisation's online presence including public relations, communications and social media management and created and optimise content for the Web site using a variety of graphics and information from different courses. UX / UI Design: conducted user research, user journey maps, identifying problems and user needs, prototyping, competitive analysis, and visual design.  Freelancer (contracts) UI/UX Designer Jan 2015 – Present As a freelance designer, have worked on wide variety of clients from Canada, the UK, the USA, Ukraine and more to deliver multiple design projects, including UI design, UX flows, storyboards, layout design, landing pages, illustration, typography, and motion graphics. Built UI mockups and prototypes. Collaborated with engineers ensure high- quality implementation.  Kharkov For Rent, Kharkiv, Ukraine Web Designer & Marketing Manager May 2010 – Dec 2014 Worked closely with the owner to develop a corporate design system, including logo, typography, image style, colours and design principle defining visual parameters for the local property rental service. Created user experience and user interface across mobile and web platforms. Worked with the marketing team and engineers to conduct user research, create personas, UX flows, wireframes, and low to high fidelity prototype.  Dream Way, Kharkiv, Ukraine Photographer & Social Media Coordinator Mar 2011 – May 2013  VOLUNTEERING  International Children’s Heart Foundation, Memphis, TN, USA Photographer Sep 2011 – Feb 2013 Worked with an international team of doctors and nurses visiting the Kharkiv Children’s Hospital. Prepared photo-based visual storylines of the children through their treatment and recovery journey, and prepared presentations for social media reporting and fundraising programs. \""
      ]
     },
     "execution_count": 79,
     "metadata": {},
     "output_type": "execute_result"
    }
   ],
   "source": [
    "\n",
    "reader = PdfReader('Резюме для 1 кейса Хакатона/Elena Gale.pdf')\n",
    "reader.pages[0].extract_text()"
   ]
  },
  {
   "cell_type": "code",
   "execution_count": 51,
   "metadata": {},
   "outputs": [
    {
     "data": {
      "text/plain": [
       "{'About me': 'AHMAT SULEIMENOV\\n+971 50 000 9004 ⬦ ahmat.suleimenov@nyu.edu ⬦ linkedin.com/akaaasuleimenov ⬦ akaaaleimenov.github.io',\n",
       " 'EDUCATION': 'New  York  University  Abu  Dhabi\\tExpected May 2024\\nB.S. of Computer Science and Mathematics\\tGPA: 3.88/4.00 Relevant Coursework: Software Engineering, Computer Systems Organizations, Algorithms,\\nData Structures, Autonomous and Social Robots, iOS University\\n42 Software Engineering School\\tAug 2019 - Aug 2020\\nSoftware Engineering\\tFremont, CA\\nImplemented 10+ C library functions\\nTaught 50+ new students the foundation of C programming language and terminal usage\\nBuilt a fully working copy of the shell\\nNazarbayev Intellectual School\\tSep 2015 - May 2019\\nA-level education in Computer Science, Mathematics, and Physics\\tGPA:  3.92/4.00\\n',\n",
       " 'EXPERIENCE': 'Lead  Developer\\tJun 2021 - Present\\nImpact Admissions\\tNur-Sultan, KZ\\nProgrammed a bot to modify scores of 98 students and post leader board in telegram and Google Sheets.\\nResearched market of 10 Ed Tech companies, compared their gains, and tested their platform on 20 students.\\nDeveloping an admissions prediction platform that analyzes student’s essays, exams, and grades\\nUnix  Lab  Tutor\\tAug 2021 - Present\\nNew York University Abu Dhabi\\tAbu Dhabi, UAE\\nAssisting students with their assignments, CS concepts, and personal tech projects\\nLeading CS related workshops on a monthly basis with more than 30 students attending regularly',\n",
       " 'PROJECTS': 'Fire Fighting Robot  Python/Gearsbot\\tMay 2021 - Jul 2021\\nConstructed a robot system able to detect survivors in burning buildings and clear obstacles in its path\\nVirtual  File  System   C++/STL/OOP/Linux/Sorting algorithms\\tMar 2021 - Apr 2021\\nImplemented a user-friendly, private file system on C++\\nDesigned the ability to modify file using Linux commands\\nDoodle Jump   Python/Processing\\tNov 2020 - Dec 2020\\nProgrammed from scratch a Doodle jump game on Processing IDE\\nACTIVITES\\nGoogle Developers Club - Co-Lead, supervising work of various teams\\tAug 2021 - Present\\nACM ICPC Team - Team Leader, competing in ACM ICPC\\tJun 2021 - Present\\nIEEE - Member, competing in IEEEXtreme and hackathons\\tDec 2020 - Present\\nAWARDS\\nAstana Innovations Challenge Hackathon - Top 2 among 50+ teams\\nRepublican Mathematics Olympiad Bronze Medalist - Top 15 among 200+ participants\\nFuture Leaders Exchange Program (FLEX) - Top 2% among 5000+ applicants',\n",
       " 'SKILLS': 'Programming Languages: Python, C++, C, Dart, JavaScript, HTML/CSS\\nFrameworks/Tools: Git, Flutter, SQL, Pandas, Photoshop, Figma'}"
      ]
     },
     "execution_count": 51,
     "metadata": {},
     "output_type": "execute_result"
    }
   ],
   "source": [
    "resumes[3]"
   ]
  },
  {
   "cell_type": "code",
   "execution_count": 35,
   "metadata": {},
   "outputs": [
    {
     "name": "stdout",
     "output_type": "stream",
     "text": [
      "False\n"
     ]
    }
   ],
   "source": [
    "t = 'ABc'\n",
    "print(all([q.isupper() for q in t]))"
   ]
  },
  {
   "cell_type": "code",
   "execution_count": 39,
   "metadata": {},
   "outputs": [],
   "source": [
    "s = ''\n",
    "resume = {}\n",
    "column = 'About me'\n",
    "for i in range(len(doc.paragraphs)):\n",
    "    text = doc.paragraphs[i].text\n",
    "    if ''.join([i.lower() for i in text]) in ['education', 'experience', 'skills', 'achievments', 'projects', 'highlighted projects', 'skills and certifications']:\n",
    "        column = text\n",
    "    else:\n",
    "        if column in resume:\n",
    "            resume[column] += '\\n' + text\n",
    "        else:\n",
    "            resume[column] = text\n",
    "    # s += '\\n' + doc.paragraphs[i].text\n",
    "\n",
    "# print(s)"
   ]
  },
  {
   "cell_type": "code",
   "execution_count": 40,
   "metadata": {},
   "outputs": [
    {
     "data": {
      "text/plain": [
       "{'About me': 'AHMAT SULEIMENOV\\n+971 50 000 9004 ⬦ ahmat.suleimenov@nyu.edu ⬦ linkedin.com/akaaasuleimenov ⬦ akaaaleimenov.github.io',\n",
       " 'EDUCATION': 'New  York  University  Abu  Dhabi\\tExpected May 2024\\nB.S. of Computer Science and Mathematics\\tGPA: 3.88/4.00 Relevant Coursework: Software Engineering, Computer Systems Organizations, Algorithms,\\nData Structures, Autonomous and Social Robots, iOS University\\n42 Software Engineering School\\tAug 2019 - Aug 2020\\nSoftware Engineering\\tFremont, CA\\nImplemented 10+ C library functions\\nTaught 50+ new students the foundation of C programming language and terminal usage\\nBuilt a fully working copy of the shell\\nNazarbayev Intellectual School\\tSep 2015 - May 2019\\nA-level education in Computer Science, Mathematics, and Physics\\tGPA:  3.92/4.00\\n',\n",
       " 'EXPERIENCE': 'Lead  Developer\\tJun 2021 - Present\\nImpact Admissions\\tNur-Sultan, KZ\\nProgrammed a bot to modify scores of 98 students and post leader board in telegram and Google Sheets.\\nResearched market of 10 Ed Tech companies, compared their gains, and tested their platform on 20 students.\\nDeveloping an admissions prediction platform that analyzes student’s essays, exams, and grades\\nUnix  Lab  Tutor\\tAug 2021 - Present\\nNew York University Abu Dhabi\\tAbu Dhabi, UAE\\nAssisting students with their assignments, CS concepts, and personal tech projects\\nLeading CS related workshops on a monthly basis with more than 30 students attending regularly',\n",
       " 'PROJECTS': 'Fire Fighting Robot  Python/Gearsbot\\tMay 2021 - Jul 2021\\nConstructed a robot system able to detect survivors in burning buildings and clear obstacles in its path\\nVirtual  File  System   C++/STL/OOP/Linux/Sorting algorithms\\tMar 2021 - Apr 2021\\nImplemented a user-friendly, private file system on C++\\nDesigned the ability to modify file using Linux commands\\nDoodle Jump   Python/Processing\\tNov 2020 - Dec 2020\\nProgrammed from scratch a Doodle jump game on Processing IDE\\nACTIVITES\\nGoogle Developers Club - Co-Lead, supervising work of various teams\\tAug 2021 - Present\\nACM ICPC Team - Team Leader, competing in ACM ICPC\\tJun 2021 - Present\\nIEEE - Member, competing in IEEEXtreme and hackathons\\tDec 2020 - Present\\nAWARDS\\nAstana Innovations Challenge Hackathon - Top 2 among 50+ teams\\nRepublican Mathematics Olympiad Bronze Medalist - Top 15 among 200+ participants\\nFuture Leaders Exchange Program (FLEX) - Top 2% among 5000+ applicants',\n",
       " 'SKILLS': 'Programming Languages: Python, C++, C, Dart, JavaScript, HTML/CSS\\nFrameworks/Tools: Git, Flutter, SQL, Pandas, Photoshop, Figma'}"
      ]
     },
     "execution_count": 40,
     "metadata": {},
     "output_type": "execute_result"
    }
   ],
   "source": [
    "resume"
   ]
  }
 ],
 "metadata": {
  "kernelspec": {
   "display_name": "Python 3",
   "language": "python",
   "name": "python3"
  },
  "language_info": {
   "codemirror_mode": {
    "name": "ipython",
    "version": 3
   },
   "file_extension": ".py",
   "mimetype": "text/x-python",
   "name": "python",
   "nbconvert_exporter": "python",
   "pygments_lexer": "ipython3",
   "version": "3.10.12"
  }
 },
 "nbformat": 4,
 "nbformat_minor": 2
}
